{
 "cells": [
  {
   "cell_type": "code",
   "execution_count": 5,
   "id": "c531c886-e1c5-4ff1-b937-bedf7d1a439a",
   "metadata": {},
   "outputs": [],
   "source": [
    "import asf_search as asf\n",
    "import geopandas as gpd\n",
    "import xarray as xr\n",
    "import pandas as pd\n",
    "import rasterio as rio\n",
    "import rioxarray"
   ]
  },
  {
   "cell_type": "code",
   "execution_count": 6,
   "id": "60d054ec-60c1-4708-a17d-2cfd1603fd62",
   "metadata": {},
   "outputs": [],
   "source": [
    "# open processing decisions csv\n",
    "md_df = pd.read_csv('md_processing_decisions.csv').iloc[:, 0:9]\n",
    "md_df['survey_name'] = md_df['survey_name'].str.strip()"
   ]
  },
  {
   "cell_type": "code",
   "execution_count": 7,
   "id": "1c018f4e-209e-4fad-be81-edd228f569ac",
   "metadata": {},
   "outputs": [],
   "source": [
    "# download OPERA layover and shadow mask\n",
    "def download_mask(burst_name, rm_downloads=True):\n",
    "    # query asf for burst\n",
    "    results = asf.search(dataset='OPERA-S1',\n",
    "                         processingLevel='RTC',\n",
    "                         operaBurstID=[f'T{burst_name}'])\n",
    "    gf = gpd.GeoDataFrame.from_features(results.geojson(), crs=4326)\n",
    "    # find mask url\n",
    "    mask_url = [x for x in gf.additionalUrls[0] if x.endswith('mask.tif')][0]\n",
    "    # grab mask fn\n",
    "    mask_fn = mask_url.split('/')[-1]\n",
    "    # download file to local tmp dir\n",
    "    asf.download_url(mask_url, './tmp')\n",
    "    # open in xarray\n",
    "    mask_ds = xr.open_dataarray(f\"./tmp/{mask_fn}\")\n",
    "    # separate based on values\n",
    "    ds = mask_ds.expand_dims(dict(mask=['valid','shadow','layover','layover_and_shadow','exterior'])).to_dataset('mask')\n",
    "\n",
    "    ds['valid'] = mask_ds==0\n",
    "    ds['shadow'] = mask_ds==1\n",
    "    ds['layover'] = mask_ds==2\n",
    "    ds['layover_and_shadow'] = mask_ds==3\n",
    "    ds['exterior'] = mask_ds==255\n",
    "\n",
    "    # remove tmp download\n",
    "    if rm_downloads == True:\n",
    "        !rm tmp/$mask_fn\n",
    "\n",
    "    return ds.squeeze()"
   ]
  },
  {
   "cell_type": "code",
   "execution_count": 8,
   "id": "0bbcd707-34aa-4117-804d-5c9d0503ecec",
   "metadata": {
    "scrolled": true
   },
   "outputs": [
    {
     "name": "stdout",
     "output_type": "stream",
     "text": [
      "rolpa\n",
      "barun\n",
      "imja\n",
      "lumding\n",
      "chamlang_south\n",
      "thugali\n",
      "nagma\n",
      "chamlang_north\n",
      "muli_tal\n",
      "barun_pokhari\n",
      "east_hongu_1\n",
      "birendra\n",
      "mera\n",
      "upper_barun\n",
      "gakal_gl_0008\n",
      "kotam_gl_0111\n",
      "east_hongu_2\n",
      "tallo_kekyap\n",
      "kekyap\n",
      "dig\n",
      "sabai\n",
      "kodud_gl_0205\n",
      "hongu_1\n"
     ]
    }
   ],
   "source": [
    "for i, row in md_df.iterrows():\n",
    "    print(row.survey_name)\n",
    "    asc_mask = download_mask(row.asc_burst)\n",
    "    asc_ds = xr.open_dataset(f'/home/jovyan/repos/incubator_moraine_dam_analysis/dams/{row.survey_name}/{row.survey_name}_asc_median_velocity.tif').squeeze()\n",
    "    asc_mask = asc_mask.astype(int).rio.reproject_match(asc_ds)\n",
    "    asc_mask.valid.astype('float32').rio.to_raster(f'/home/jovyan/repos/incubator_moraine_dam_analysis/dams/{row.survey_name}/{row.survey_name}_asc_valid.tif')\n",
    "    \n",
    "    des_mask = download_mask(row.des_burst)\n",
    "    des_ds = xr.open_dataset(f'/home/jovyan/repos/incubator_moraine_dam_analysis/dams/{row.survey_name}/{row.survey_name.strip()}_des_median_velocity.tif').squeeze()\n",
    "    des_mask = des_mask.astype(int).rio.reproject_match(des_ds)\n",
    "    des_mask.valid.astype('float32').rio.to_raster(f'/home/jovyan/repos/incubator_moraine_dam_analysis/dams/{row.survey_name}/{row.survey_name}_des_valid.tif')\n",
    "    # combine for a single valid mask for ud/ew\n",
    "    ((asc_mask.valid + des_mask.valid) == 2).astype('int').astype('float32').rio.to_raster(f'/home/jovyan/repos/incubator_moraine_dam_analysis/dams/{row.survey_name}/{row.survey_name}_combined_valid.tif')\n",
    "\n",
    "    "
   ]
  }
 ],
 "metadata": {
  "kernelspec": {
   "display_name": "mintpy",
   "language": "python",
   "name": "mintpy"
  },
  "language_info": {
   "codemirror_mode": {
    "name": "ipython",
    "version": 3
   },
   "file_extension": ".py",
   "mimetype": "text/x-python",
   "name": "python",
   "nbconvert_exporter": "python",
   "pygments_lexer": "ipython3",
   "version": "3.11.9"
  }
 },
 "nbformat": 4,
 "nbformat_minor": 5
}
