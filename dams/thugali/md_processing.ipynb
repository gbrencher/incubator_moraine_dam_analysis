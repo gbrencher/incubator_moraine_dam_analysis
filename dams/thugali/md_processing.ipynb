{
 "cells": [
  {
   "cell_type": "markdown",
   "id": "7610cda7-6361-4cbc-9564-348cdac93d06",
   "metadata": {},
   "source": [
    "# Full processing for moraine dam surface change"
   ]
  },
  {
   "cell_type": "code",
   "execution_count": 3,
   "id": "30a00f77-ce5a-467b-a15f-17ff5e668394",
   "metadata": {},
   "outputs": [],
   "source": [
    "# import packages\n",
    "import os\n",
    "import pyproj\n",
    "pyproj.datadir.set_data_dir('/srv/conda/envs/mintpy/share/proj')\n",
    "os.environ[\"PROJ_DATA\"]=\"/srv/conda/envs/mintpy/share/proj\"\n",
    "from glob import glob\n",
    "import geopandas as gpd\n",
    "from pathlib import Path\n",
    "from typing import List, Union\n",
    "from osgeo import gdal, gdal_array\n",
    "import numpy as np\n",
    "import matplotlib.pyplot as plt\n",
    "import rioxarray\n",
    "import xarray as xr\n",
    "import rasterio as rio\n",
    "import datetime\n",
    "from datetime import datetime, timedelta\n",
    "import sys\n",
    "from mintpy.utils import readfile, writefile, utils as ut, plot\n",
    "from mintpy.cli import view, tsview, plot_network, plot_transection\n",
    "from mintpy.view import prep_slice, plot_slice\n",
    "import gc\n",
    "import pandas as pd\n",
    "import seaborn as sns\n",
    "from scipy.stats import linregress\n",
    "from rasterio.enums import Resampling\n",
    "from matplotlib.colors import LogNorm\n",
    "\n",
    "sns.set_theme()"
   ]
  },
  {
   "cell_type": "code",
   "execution_count": 4,
   "id": "202b8757-6243-4964-9724-c7105f7663ef",
   "metadata": {},
   "outputs": [],
   "source": [
    "# set up paths, directories, and variables for this specific dam\n",
    "data_path = '/home/jovyan/repos/incubator_moraine_dam_analysis/data'\n",
    "asc_burst = '085_180592_IW1'\n",
    "des_burst = '019_039569_IW2'\n",
    "asc_burst_path = f'{data_path}/data_igrams/{asc_burst}'\n",
    "des_burst_path = f'{data_path}/data_igrams/{des_burst}'\n",
    "\n",
    "dam_name = 'thugali'\n",
    "#nproc_path = f'/home/jovyan/repos/incubator_moraine_dam_analysis/'\n",
    "\n",
    "# define reference point, [y, x]\n",
    "reference_point = [3083118.75, 446663.43]\n",
    "\n",
    "# define crs \n",
    "crs = 32644"
   ]
  },
  {
   "cell_type": "code",
   "execution_count": 5,
   "id": "065ae1d9-573e-4b9f-9764-9d1c19cb1b91",
   "metadata": {},
   "outputs": [],
   "source": [
    "# read in dam polygon\n",
    "dam_fn = f'../../mapping/polygons/{dam_name}_md.shp'\n",
    "dam_gdf = gpd.read_file(dam_fn)\n",
    "dam_gdf = dam_gdf.to_crs(crs) # reproject in case of mistake\n",
    "\n",
    "# # load in moving area polygon\n",
    "# moving_fn = f'../../mapping/polygons/{dam_name}_moving.shp'\n",
    "# moving_gdf = gpd.read_file(moving_fn)\n",
    "\n",
    "# # load in reference area polygon\n",
    "# reference_fn = f'../../mapping/polygons/{dam_name}_reference.shp'\n",
    "# reference_gdf = gpd.read_file(reference_fn)\n",
    "\n",
    "# # load in stable area polygon\n",
    "# stable_fn = f'../../mapping/polygons/{dam_name}_stable.shp'\n",
    "# stable_gdf = gpd.read_file(stable_fn).to_crs(crs)\n",
    "\n",
    "# load in water mask\n",
    "water_fn = f'../../mapping/polygons/water_mask.shp'\n",
    "water_gdf = gpd.read_file(water_fn).to_crs(crs)\n",
    "\n",
    "# pad dam bounds by 5 km \n",
    "padding = 5000\n",
    "aoi_extent = [dam_gdf.bounds.minx.item()-padding,\n",
    "               dam_gdf.bounds.maxy.item()+padding,\n",
    "               dam_gdf.bounds.maxx.item()+padding,\n",
    "               dam_gdf.bounds.miny.item()-padding]"
   ]
  },
  {
   "cell_type": "code",
   "execution_count": 6,
   "id": "92c17b78-4b6a-40b6-bf7f-322b8a3e3190",
   "metadata": {},
   "outputs": [],
   "source": [
    "def clip_hyp3_products_to_common_overlap(data_path: Union[str, Path], overlap: List[float]) -> None:    \n",
    "    files_for_mintpy = ['_rng_off.tif', '_snr.tif', '_conncomp.tif', '_corr.tif', '_unw_phase.tif', '_dem.tif', '_lv_theta.tif', '_lv_phi.tif']\n",
    "    for extension in files_for_mintpy:\n",
    "        print(f'working on {extension}') \n",
    "        for file in data_path.rglob(f'*{extension}'):\n",
    "            dst_file = file.parent / f'{file.stem}_{dam_name}{file.suffix}'\n",
    "            gdal.Translate(destName=str(dst_file), srcDS=str(file), projWin=overlap)"
   ]
  },
  {
   "cell_type": "code",
   "execution_count": null,
   "id": "53a06f36-383c-4b2f-9ef7-be6e7bfd6786",
   "metadata": {},
   "outputs": [
    {
     "name": "stdout",
     "output_type": "stream",
     "text": [
      "working on _rng_off.tif\n",
      "working on _snr.tif\n",
      "working on _conncomp.tif\n"
     ]
    },
    {
     "name": "stderr",
     "output_type": "stream",
     "text": [
      "/srv/conda/envs/mintpy/lib/python3.11/site-packages/osgeo/gdal.py:312: FutureWarning: Neither gdal.UseExceptions() nor gdal.DontUseExceptions() has been explicitly called. In GDAL 4.0, exceptions will be enabled by default.\n",
      "  warnings.warn(\n"
     ]
    },
    {
     "name": "stdout",
     "output_type": "stream",
     "text": [
      "working on _corr.tif\n"
     ]
    }
   ],
   "source": [
    "# clip igram products to dam aoi\n",
    "# clip_hyp3_products_to_common_overlap(Path(asc_burst_path), aoi_extent)\n",
    "clip_hyp3_products_to_common_overlap(Path(des_burst_path), aoi_extent)"
   ]
  },
  {
   "cell_type": "code",
   "execution_count": null,
   "id": "948d8f33-cc6e-473f-b0c0-64fab7ce3e53",
   "metadata": {},
   "outputs": [],
   "source": [
    "# functions to load interferogram tifs to xarray\n",
    "def parse_file(file_path):\n",
    "    data = {}\n",
    "    with open(file_path, 'r') as file:\n",
    "        for line in file:\n",
    "            key, value = line.strip().split(': ')\n",
    "            data[key] = value\n",
    "    return data\n",
    "\n",
    "def xr_read_geotif(geotif_file_path, masked=True):\n",
    "    \"\"\"\n",
    "    Reads in single or multi-band GeoTIFF as dask array.\n",
    "    Inputs\n",
    "    ----------\n",
    "    GeoTIFF_file_path : GeoTIFF file path\n",
    "    Returns\n",
    "    -------\n",
    "    ds : xarray.Dataset\n",
    "        Includes rioxarray extension to xarray.Dataset\n",
    "    \"\"\"\n",
    "\n",
    "    da = rioxarray.open_rasterio(geotif_file_path, masked=True)\n",
    "\n",
    "    # Extract bands and assign as variables in xr.Dataset()\n",
    "    ds = xr.Dataset()\n",
    "    for i, v in enumerate(da.band):\n",
    "        da_tmp = da.sel(band=v)\n",
    "        da_tmp.name = \"band\" + str(i + 1)\n",
    "\n",
    "        ds[da_tmp.name] = da_tmp\n",
    "\n",
    "    # Delete empty band coordinates.\n",
    "    # Need to preserve spatial_ref coordinate, even though it appears empty.\n",
    "    # See spatial_ref attributes under ds.coords.variables used by rioxarray extension.\n",
    "    del ds.coords[\"band\"]\n",
    "\n",
    "    # Preserve top-level attributes and extract single value from value iterables e.g. (1,) --> 1\n",
    "    ds.attrs = da.attrs\n",
    "    for key, value in ds.attrs.items():\n",
    "        try:\n",
    "            if len(value) == 1:\n",
    "                ds.attrs[key] = value[0]\n",
    "        except TypeError:\n",
    "            pass\n",
    "\n",
    "    return ds\n",
    "\n",
    "def hyp3_to_xarray(hyp3_dir, epsg, file_type='corr', interpolate_na=False):\n",
    "    \n",
    "    dirs = os.listdir(hyp3_dir) #list generated interferograms\n",
    "    datasets = []\n",
    "    acquisition_list = []\n",
    "    \n",
    "    for idir in dirs:\n",
    "        tif_path = glob(f'{hyp3_dir}/{idir}/*/*{file_type}.tif')[0]\n",
    "        tif_fn = os.path.split(tif_path)[-1]\n",
    "        dates = f'{tif_fn[14:22]}_{tif_fn[23:31]}' #parse filename for interferogram dates\n",
    "        start_date = datetime.strptime(dates[:8], '%Y%m%d')\n",
    "        end_date = datetime.strptime(dates[-8:], '%Y%m%d')\n",
    "        t_baseline = end_date - start_date\n",
    "        middle_date = t_baseline/2+start_date\n",
    "        \n",
    "        src = xr_read_geotif(tif_path, masked=False) #read product to xarray ds\n",
    "        src = src.assign_coords({\"dates\": dates})\n",
    "        src = src.expand_dims(\"dates\")\n",
    "        \n",
    "        src = src.assign_coords(start_date = ('dates', [start_date]))\n",
    "        src = src.assign_coords(end_date = ('dates', [end_date]))\n",
    "        src = src.assign_coords(t_baseline = ('dates', [t_baseline]))\n",
    "        src = src.assign_coords(middle_date = ('dates', [middle_date]))\n",
    "        \n",
    "        src = src.rename({'band1':file_type})\n",
    "        src = src.rio.write_crs(epsg)\n",
    "\n",
    "        # # open metadata file\n",
    "        # txt_path = glob(f'{hyp3_dir}/{idir}/*/*FFTS.txt')[0]\n",
    "        # meta_dict = parse_file(txt_path)\n",
    "        # src = src.assign_coords(perp_baseline = ('dates', [meta_dict['Baseline']]))\n",
    "        \n",
    "        if interpolate_na == True:\n",
    "            src = src.interpolate_na(dim='x', method='linear').fillna(value=0)\n",
    "        \n",
    "        datasets.append(src)\n",
    "        #print(src[file_type].shape, src.dates.item())\n",
    "       \n",
    "    ds = xr.concat(datasets, dim=\"dates\", combine_attrs=\"no_conflicts\") #create dataset\n",
    "    ds = ds.sortby('dates')\n",
    "\n",
    "    return ds "
   ]
  },
  {
   "cell_type": "markdown",
   "id": "c01f2ef3-d80f-43ad-9f6c-2d8edd3bf733",
   "metadata": {},
   "source": [
    "## examine coherence "
   ]
  },
  {
   "cell_type": "code",
   "execution_count": null,
   "id": "8dba87fa-91a7-483c-a417-fd1f2d9daffa",
   "metadata": {},
   "outputs": [],
   "source": [
    "asc_corr_ds = hyp3_to_xarray(asc_burst_path, crs, file_type=f'corr_{dam_name}')\n",
    "des_corr_ds = hyp3_to_xarray(des_burst_path, crs, file_type=f'corr_{dam_name}')"
   ]
  },
  {
   "cell_type": "code",
   "execution_count": null,
   "id": "a0aae85a-f7b2-421c-9075-bae79fea979b",
   "metadata": {},
   "outputs": [],
   "source": [
    "asc_corr_ds.corr_thugali.isel(dates=0).plot()"
   ]
  },
  {
   "cell_type": "code",
   "execution_count": null,
   "id": "855dfd62-5a78-47e7-a595-07ab6d6b583c",
   "metadata": {},
   "outputs": [],
   "source": [
    "# plot mean spatial coherence\n",
    "padding = 4400\n",
    "\n",
    "f, ax = plt.subplots(1, 2, figsize=(12, 5), sharex=True, sharey=True)\n",
    "asc_corr_ds[f'corr_{dam_name}'].mean(dim='dates').plot(ax=ax[0], vmin=0.2, vmax=1, cbar_kwargs= {'label':'coherence'})\n",
    "dam_gdf.plot(ax=ax[0], edgecolor='black', facecolor='none')\n",
    "# moving_gdf.plot(ax=ax[0], edgecolor='red', facecolor='none')\n",
    "# stable_gdf.plot(ax=ax[0], edgecolor='blue', facecolor='none')\n",
    "# reference_gdf.plot(ax=ax[0], edgecolor='white', facecolor='none')\n",
    "ax[0].set_title('ascending mean coherence')\n",
    "ax[0].scatter(reference_point[1], reference_point[0], c='k', s=5)\n",
    "ax[0].set_aspect('equal')\n",
    "ax[0].set_xlim(aoi_extent[0]+padding, aoi_extent[2]-padding)\n",
    "ax[0].set_ylim(aoi_extent[3]+padding, aoi_extent[1]-padding)\n",
    "ax[0].set_xlabel('')\n",
    "ax[0].set_ylabel('')\n",
    "\n",
    "des_corr_ds[f'corr_{dam_name}'].mean(dim='dates').plot(ax=ax[1], vmin=0.2, vmax=1, cbar_kwargs= {'label':'coherence'})\n",
    "dam_gdf.plot(ax=ax[1], edgecolor='black', facecolor='none')\n",
    "# moving_gdf.plot(ax=ax[1], edgecolor='red', facecolor='none')\n",
    "# stable_gdf.plot(ax=ax[1], edgecolor='blue', facecolor='none')\n",
    "# reference_gdf.plot(ax=ax[1], edgecolor='white', facecolor='none')\n",
    "ax[1].scatter(reference_point[1], reference_point[0], c='k', s=5)\n",
    "ax[1].set_title('descending mean coherence')\n",
    "ax[1].set_aspect('equal')\n",
    "ax[1].set_xlim(aoi_extent[0]+padding, aoi_extent[2]-padding)\n",
    "ax[1].set_ylim(aoi_extent[3]+padding, aoi_extent[1]-padding)\n",
    "f.tight_layout()\n",
    "ax[1].set_xlabel('')\n",
    "ax[1].set_ylabel('')\n",
    "\n",
    "plt.savefig(f'./figs/{dam_name}_coherence_map.png', dpi=300)"
   ]
  },
  {
   "cell_type": "code",
   "execution_count": null,
   "id": "69b6b2d9-57cc-4493-bc7e-8fa717425f0b",
   "metadata": {},
   "outputs": [],
   "source": [
    "# save coherence maps\n",
    "asc_corr_ds[f'corr_{dam_name}'].mean(dim='dates').rio.to_raster(f'{dam_name}_asc_mean_coherence.tif')\n",
    "des_corr_ds[f'corr_{dam_name}'].mean(dim='dates').rio.to_raster(f'{dam_name}_des_mean_coherence.tif')\n",
    "combined_corr = (asc_corr_ds[f'corr_{dam_name}'].mean(dim='dates') + des_corr_ds[f'corr_{dam_name}'].mean(dim='dates'))/2\n",
    "combined_corr.rio.to_raster(f'{dam_name}_combined_mean_coherence.tif')"
   ]
  },
  {
   "cell_type": "code",
   "execution_count": null,
   "id": "5e3cd4f2-d6b5-4b47-a10a-2d896cae55ce",
   "metadata": {},
   "outputs": [],
   "source": [
    "# # clip datasets to dam polygon\n",
    "# asc_dam_corr_ds = asc_corr_ds.rio.clip(dam_gdf.geometry.values, crs=dam_gdf.crs, drop=True)\n",
    "# des_dam_corr_ds = des_corr_ds.rio.clip(dam_gdf.geometry.values, crs=dam_gdf.crs, drop=True)\n",
    "\n",
    "# clip datasets to moving polygon\n",
    "asc_dam_corr_ds = asc_corr_ds.rio.clip(moving_gdf.geometry.values, crs=moving_gdf.crs, drop=True)\n",
    "des_dam_corr_ds = des_corr_ds.rio.clip(moving_gdf.geometry.values, crs=moving_gdf.crs, drop=True)\n",
    "\n",
    "# clip datasets to stable polygon\n",
    "asc_stable_corr_ds = asc_corr_ds.rio.clip(stable_gdf.geometry.values, crs=stable_gdf.crs, drop=True)\n",
    "des_stable_corr_ds = des_corr_ds.rio.clip(stable_gdf.geometry.values, crs=stable_gdf.crs, drop=True)"
   ]
  },
  {
   "cell_type": "code",
   "execution_count": null,
   "id": "f2fb7f65-12a3-4689-95b2-1285266c0b66",
   "metadata": {},
   "outputs": [],
   "source": [
    "asc_corr_ds = asc_corr_ds.where(asc_corr_ds.t_baseline.dt.days < 100, drop = True)"
   ]
  },
  {
   "cell_type": "code",
   "execution_count": null,
   "id": "db918214-5c88-47f3-8333-0104df61b657",
   "metadata": {},
   "outputs": [],
   "source": [
    "t_baselines = np.union1d(des_dam_corr_ds.t_baseline.dt.days.values, asc_dam_corr_ds.t_baseline.dt.days.values)\n",
    "\n",
    "# plot seasonal changes in coherence \n",
    "colors = plt.cm.viridis_r(np.linspace(0, 1, len(t_baselines)))\n",
    "\n",
    "f, ax = plt.subplots(2, 2, figsize=(7.5, 4), sharex=True, sharey=True, gridspec_kw={'height_ratios': [2.5, 1]})\n",
    "\n",
    "# ax[0, 0].fill_betweenx([0.3, 1], 152, 334, color='grey', alpha=0.1)\n",
    "# ax[0, 1].fill_betweenx([0.3, 1], 152, 334, color='grey', alpha=0.1)\n",
    "# ax[1, 0].fill_betweenx([0.3, 1], 152, 334, color='grey', alpha=0.1)\n",
    "# ax[1, 1].fill_betweenx([0.3, 1], 152, 334, color='grey', alpha=0.1)\n",
    "\n",
    "for i, days in enumerate(t_baselines):\n",
    "    ax[0, 0].scatter(asc_dam_corr_ds.middle_date[asc_dam_corr_ds.t_baseline.dt.days == days].dt.dayofyear,\n",
    "                  asc_dam_corr_ds[f'corr_{dam_name}'].mean(dim=['x', 'y'])[asc_dam_corr_ds.t_baseline.dt.days == days],\n",
    "                  color=colors[i],\n",
    "                  s=7,\n",
    "                  label=f'{int(days)} days')\n",
    "    ax[0, 0].tick_params(left=False)\n",
    "\n",
    "    ax[0, 1].scatter(des_dam_corr_ds.middle_date[des_dam_corr_ds.t_baseline.dt.days == days].dt.dayofyear,\n",
    "                  des_dam_corr_ds[f'corr_{dam_name}'].mean(dim=['x', 'y'])[des_dam_corr_ds.t_baseline.dt.days == days],\n",
    "                  color=colors[i],\n",
    "                  s=7,\n",
    "                  label=f'{int(days)} days')\n",
    "    ax[0, 1].tick_params(left=False)\n",
    "\n",
    "    ax[1, 0].scatter(asc_stable_corr_ds.middle_date[asc_stable_corr_ds.t_baseline.dt.days == days].dt.dayofyear,\n",
    "                  asc_stable_corr_ds[f'corr_{dam_name}'].mean(dim=['x', 'y'])[asc_stable_corr_ds.t_baseline.dt.days == days],\n",
    "                  color=colors[i],\n",
    "                  s=7,\n",
    "                  label=f'{int(days)} days')\n",
    "\n",
    "    ax[1, 1].scatter(des_stable_corr_ds.middle_date[des_stable_corr_ds.t_baseline.dt.days == days].dt.dayofyear,\n",
    "                  des_stable_corr_ds[f'corr_{dam_name}'].mean(dim=['x', 'y'])[des_stable_corr_ds.t_baseline.dt.days == days],\n",
    "                  color=colors[i],\n",
    "                  s=7,\n",
    "                  label=f'{int(days)} days')\n",
    "\n",
    "    ax[0, 0].set_ylabel('mean coherence')\n",
    "    ax[1, 0].set_ylabel('mean coherence')\n",
    "    ax[1, 0].set_xlabel('day of year')\n",
    "    ax[1, 1].set_xlabel('day of year')\n",
    "    ax[0, 0].set_title('moving area ascending')\n",
    "    ax[0, 1].set_title('moving area descending')\n",
    "    ax[1, 0].set_title('stable area ascending')\n",
    "    ax[1, 1].set_title('stable area descending')\n",
    "    # ax[1, 1].legend(loc='lower right', fontsize=10, ncol=2)\n",
    "\n",
    "    \n",
    "f.tight_layout()\n",
    "plt.savefig(f'./figs/{dam_name}_coherence_ts.png', dpi=300)"
   ]
  },
  {
   "cell_type": "code",
   "execution_count": null,
   "id": "a9b87d9e-648e-4722-bef1-2900c0f17ba1",
   "metadata": {},
   "outputs": [],
   "source": [
    "asc_corr_ds_12day = asc_corr_ds.where(asc_corr_ds.t_baseline.dt.days == 12 , drop=True)\n",
    "des_corr_ds_12day = des_corr_ds.where(des_corr_ds.t_baseline.dt.days == 12 , drop=True)\n",
    "\n",
    "# low coherence period \n",
    "# asc_lowcorr_ds = asc_corr_ds_12day.where((asc_corr_ds_12day.start_date.dt.dayofyear > 220) & (asc_corr_ds_12day.end_date.dt.dayofyear < 280), drop=True)\n",
    "des_lowcorr_ds = des_corr_ds_12day.where((des_corr_ds_12day.start_date.dt.dayofyear > 220) & (des_corr_ds_12day.end_date.dt.dayofyear < 280), drop=True)\n",
    "\n",
    "# high coherence period\n",
    "# asc_highcorr_ds = asc_corr_ds_12day.where((asc_corr_ds_12day.start_date.dt.dayofyear > 100) & (asc_corr_ds_12day.end_date.dt.dayofyear < 160), drop=True)\n",
    "des_highcorr_ds = des_corr_ds_12day.where((des_corr_ds_12day.start_date.dt.dayofyear > 100) & (des_corr_ds_12day.end_date.dt.dayofyear < 160), drop=True)\n",
    "\n",
    "# combined coherence\n",
    "# asc_lowcorr_da = asc_lowcorr_ds.median(dim='dates')[f'corr_{dam_name}']\n",
    "des_lowcorr_da = des_lowcorr_ds.median(dim='dates')[f'corr_{dam_name}']\n",
    "# lowcorr_da = (asc_lowcorr_da + des_lowcorr_da)/2\n",
    "\n",
    "# asc_highcorr_da = asc_highcorr_ds.median(dim='dates')[f'corr_{dam_name}']\n",
    "des_highcorr_da = des_highcorr_ds.median(dim='dates')[f'corr_{dam_name}']\n",
    "# highcorr_da = (asc_highcorr_da + des_highcorr_da)/2\n",
    "\n",
    "# save seasonal coherence change\n",
    "des_corr_change_da = (des_highcorr_da - des_lowcorr_da)\n",
    "des_corr_change_da.rio.to_raster(f'{dam_name}_seasonal_coherence_change_DES_ONLY.tif')\n",
    "ice_da = xr.where(des_corr_change_da >= 0.03, 1, 0).astype('float32')\n",
    "ice_da.rio.to_raster(f'{dam_name}_ice_map.tif')"
   ]
  },
  {
   "cell_type": "code",
   "execution_count": null,
   "id": "edd49598-42f7-421a-a7d4-fe4a9c75f131",
   "metadata": {},
   "outputs": [],
   "source": [
    "# interpret plot\n",
    "# if offsets will be needed to bridge summer gap, set use_offsets = True\n",
    "use_offsets = True"
   ]
  },
  {
   "cell_type": "code",
   "execution_count": null,
   "id": "91a3e246-d17c-4717-9719-8bfb5fcf69b1",
   "metadata": {},
   "outputs": [],
   "source": [
    "asc_acquisitions = xr.DataArray(np.union1d(asc_corr_ds.start_date, asc_corr_ds.end_date))\n",
    "des_acquisitions = xr.DataArray(np.union1d(des_corr_ds.start_date, des_corr_ds.end_date))"
   ]
  },
  {
   "cell_type": "markdown",
   "id": "e47b709f-e3f6-495b-9cc0-7cde5618650a",
   "metadata": {},
   "source": [
    "## prepare offsets for processing"
   ]
  },
  {
   "cell_type": "code",
   "execution_count": null,
   "id": "a237f112-38ab-4002-8319-37197e47cd78",
   "metadata": {},
   "outputs": [],
   "source": [
    "asc_burst_offsets_path = f'{data_path}/data_offsets/{asc_burst}'\n",
    "des_burst_offsets_path = f'{data_path}/data_offsets/{des_burst}'"
   ]
  },
  {
   "cell_type": "code",
   "execution_count": null,
   "id": "1e54636f-de9a-4cb1-8d85-14edab7bc2c6",
   "metadata": {},
   "outputs": [],
   "source": [
    "# open offsets and SNR\n",
    "asc_offset_ds = hyp3_to_xarray(asc_burst_offsets_path, file_type=f'rng_off_{dam_name}')\n",
    "asc_snr_ds = hyp3_to_xarray(asc_burst_offsets_path, file_type=f'snr_{dam_name}')\n",
    "des_offset_ds = hyp3_to_xarray(des_burst_offsets_path, file_type=f'rng_off_{dam_name}')\n",
    "des_snr_ds = hyp3_to_xarray(des_burst_offsets_path, file_type=f'snr_{dam_name}')"
   ]
  },
  {
   "cell_type": "code",
   "execution_count": null,
   "id": "e5a07ace-4c8c-4043-b421-f918dd9af37b",
   "metadata": {},
   "outputs": [],
   "source": []
  },
  {
   "cell_type": "code",
   "execution_count": null,
   "id": "027889ab-0834-4076-be97-1bee894c453b",
   "metadata": {},
   "outputs": [],
   "source": []
  },
  {
   "cell_type": "code",
   "execution_count": null,
   "id": "d395b830-699c-4b63-b008-75b8e6cba2e1",
   "metadata": {},
   "outputs": [],
   "source": []
  },
  {
   "cell_type": "code",
   "execution_count": null,
   "id": "f37ed069-2d22-48fc-a712-49d50b31b258",
   "metadata": {},
   "outputs": [],
   "source": []
  }
 ],
 "metadata": {
  "kernelspec": {
   "display_name": "mintpy",
   "language": "python",
   "name": "mintpy"
  },
  "language_info": {
   "codemirror_mode": {
    "name": "ipython",
    "version": 3
   },
   "file_extension": ".py",
   "mimetype": "text/x-python",
   "name": "python",
   "nbconvert_exporter": "python",
   "pygments_lexer": "ipython3",
   "version": "3.11.9"
  }
 },
 "nbformat": 4,
 "nbformat_minor": 5
}
